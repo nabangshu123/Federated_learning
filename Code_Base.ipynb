{
 "cells": [
  {
   "cell_type": "code",
   "execution_count": 102,
   "metadata": {},
   "outputs": [],
   "source": [
    "import sklearn"
   ]
  },
  {
   "cell_type": "code",
   "execution_count": 103,
   "metadata": {},
   "outputs": [],
   "source": [
    "import numpy as np\n",
    "import matplotlib.pyplot as plt"
   ]
  },
  {
   "cell_type": "markdown",
   "metadata": {},
   "source": [
    "The function compute_cost simply computes the cost of the estimation. \n",
    "\n",
    "The function gradient_descent_fed computes the average gradient by giving the same weights to both clusters. \n",
    "\n",
    "The function gaussian_mix is a function to produce n_samples samples from a mixture of three Gaussians having means m1, m2 and m3."
   ]
  },
  {
   "cell_type": "code",
   "execution_count": 113,
   "metadata": {},
   "outputs": [],
   "source": [
    "def compute_cost(X, y, params):\n",
    "    n_samples = len(y)\n",
    "    h = X @ params\n",
    "    return (1/(2*n_samples))*np.sum((h-y)**2)\n",
    "\n",
    "def gradient_descent_fed(X1, y1, X2, y2, params, learning_rate, n_iters):\n",
    "    n_samples = len(y1)\n",
    "    J_history = np.zeros((n_iters,1))\n",
    "    for i in range(n_iters):\n",
    "        params = params - (learning_rate/(2*n_samples)) * (X1.T @ (X1 @ params - y1) + X2.T @ (X2 @ params - y2)) \n",
    "        J_history[i] = compute_cost(X1, y1, params) + compute_cost(X2, y2, params)\n",
    "\n",
    "    return (J_history, params)\n",
    "\n",
    "def gaussian_mix(m1,m2,m3,cov,n_samples):\n",
    "    n_samples=int(n_samples/3)\n",
    "    x, y = np.random.multivariate_normal(m1, cov, n_samples).T\n",
    "    x=x.reshape((n_samples,1))\n",
    "    y=y.reshape((n_samples,1))\n",
    "    data1=np.hstack((x,y))\n",
    "    x, y = np.random.multivariate_normal(m2, cov, n_samples).T\n",
    "    x=x.reshape((n_samples,1))\n",
    "    y=y.reshape((n_samples,1))\n",
    "    data2=np.hstack((x,y))\n",
    "    x, y = np.random.multivariate_normal(m3, cov, n_samples).T\n",
    "    x=x.reshape((n_samples,1))\n",
    "    y=y.reshape((n_samples,1))\n",
    "    data3=np.hstack((x,y))\n",
    "    data=np.vstack((data1,data2,data3))\n",
    "    np.random.shuffle(data)\n",
    "    return data"
   ]
  },
  {
   "cell_type": "markdown",
   "metadata": {},
   "source": [
    "This is an implementation of a simple linear regression algorithm. The data has been generated according to the paper \"Multiple Source Adaptation and the Renyi Divergence\". Using only two clusters, each having 54000 samples of two different Gaussian mixtures. The input, x, is 2-D data. Cluster 1 is a mixture of (m1, m2, m3) Gaussians. Cluster 2 is a mixture of (m1, m3, m4) Gaussians. The covariance for both is the 2-D identity matrix. The plot is that of convergence of the cost function with the iteration number."
   ]
  },
  {
   "cell_type": "code",
   "execution_count": 115,
   "metadata": {},
   "outputs": [
    {
     "name": "stdout",
     "output_type": "stream",
     "text": [
      "Total samples in our dataset is: 54000\n",
      "Initial cost is:  1.0 \n",
      "\n",
      "Optimal parameters are: \n",
      " [[ 0.15188884]\n",
      " [ 0.15432457]\n",
      " [-0.15173227]] \n",
      "\n",
      "Final cost is:  [0.94109266]\n"
     ]
    },
    {
     "data": {
      "image/png": "[encoded data removed]",
      "text/plain": [
       "<Figure size 432x288 with 1 Axes>"
      ]
     },
     "metadata": {
      "needs_background": "light"
     },
     "output_type": "display_data"
    }
   ],
   "source": [
    "m1=[1,1]\n",
    "m2=[-1,1]\n",
    "m3=[-1,-1]\n",
    "m4=[1,-1]\n",
    "cov=[[1,0],[0,1]]\n",
    "X1 = gaussian_mix(m1,m2,m3,cov,54000)\n",
    "y1 = np.sign(X1[:,0]*X1[:,1]).reshape((54000,1))\n",
    "\n",
    "X2 = gaussian_mix(m1,m3,m4,cov,54000)\n",
    "y2 = np.sign(X1[:,0]*X1[:,1]).reshape((54000,1))\n",
    "\n",
    "print(\"Total samples in our dataset is: {}\".format(X1.shape[0]))\n",
    "n_samples = len(y1)\n",
    "\n",
    "mu = np.mean(X1, 0)\n",
    "sigma = np.std(X1, 0)\n",
    "X1 = (X1-mu) / sigma\n",
    "X1 = np.hstack((np.ones((n_samples,1)),X1))\n",
    "n_features = X1.shape[1]\n",
    "params = np.zeros((n_features,1))\n",
    "\n",
    "mu = np.mean(X2, 0)\n",
    "sigma = np.std(X2, 0)\n",
    "X2 = (X2-mu) / sigma\n",
    "X2 = np.hstack((np.ones((n_samples,1)),X2))\n",
    "n_features = X2.shape[1]\n",
    "\n",
    "n_iters = 15000\n",
    "learning_rate = 0.001\n",
    "initial_cost = compute_cost(X1, y1, params) + compute_cost(X2, y2, params)\n",
    "\n",
    "print(\"Initial cost is: \", initial_cost, \"\\n\")\n",
    "\n",
    "(J_history, optimal_params) = gradient_descent_fed(X1, y1, X2, y2, params, learning_rate, n_iters)\n",
    "\n",
    "print(\"Optimal parameters are: \\n\", optimal_params, \"\\n\")\n",
    "\n",
    "print(\"Final cost is: \", J_history[-1])\n",
    "\n",
    "plt.plot(range(len(J_history)), J_history, 'r')\n",
    "\n",
    "plt.title(\"Convergence Graph of Cost Function\")\n",
    "plt.xlabel(\"Number of Iterations\")\n",
    "plt.ylabel(\"Cost\")\n",
    "plt.show()"
   ]
  },
  {
   "cell_type": "markdown",
   "metadata": {},
   "source": [
    "The difference between cost and final cost is not that much. This is just a vanilla implementation of a federated learning scheme. There are lots of ideas and small experiments to run over this."
   ]
  },
  {
   "cell_type": "markdown",
   "metadata": {},
   "source": [
    "Following is the run of the same algorithm but on individual datasets. The behavior of gradient descent on the second cluster is interesting."
   ]
  },
  {
   "cell_type": "code",
   "execution_count": 116,
   "metadata": {},
   "outputs": [],
   "source": [
    "def gradient_descent(X1, y1, params, learning_rate, n_iters):\n",
    "    n_samples = len(y1)\n",
    "    J_history = np.zeros((n_iters,1))\n",
    "    for i in range(n_iters):\n",
    "        params = params - (learning_rate/(n_samples)) * (X1.T @ (X1 @ params - y1)) \n",
    "        J_history[i] = compute_cost(X1, y1, params)\n",
    "\n",
    "    return (J_history, params)"
   ]
  },
  {
   "cell_type": "markdown",
   "metadata": {},
   "source": [
    "## Cluster: 1"
   ]
  },
  {
   "cell_type": "code",
   "execution_count": 117,
   "metadata": {},
   "outputs": [
    {
     "name": "stdout",
     "output_type": "stream",
     "text": [
      "Initial cost is:  0.5 \n",
      "\n",
      "Optimal parameters are: \n",
      " [[ 0.15188884]\n",
      " [ 0.30409438]\n",
      " [-0.30596038]] \n",
      "\n",
      "Final cost is:  [0.4174851]\n"
     ]
    },
    {
     "data": {
      "image/png": "[encoded data removed]",
      "text/plain": [
       "<Figure size 432x288 with 1 Axes>"
      ]
     },
     "metadata": {
      "needs_background": "light"
     },
     "output_type": "display_data"
    }
   ],
   "source": [
    "n_iters = 15000\n",
    "learning_rate = 0.001\n",
    "initial_cost = compute_cost(X1, y1, params)\n",
    "\n",
    "print(\"Initial cost is: \", initial_cost, \"\\n\")\n",
    "\n",
    "(J_history, optimal_params) = gradient_descent(X1, y1, params, learning_rate, n_iters)\n",
    "\n",
    "print(\"Optimal parameters are: \\n\", optimal_params, \"\\n\")\n",
    "\n",
    "print(\"Final cost is: \", J_history[-1])\n",
    "\n",
    "plt.plot(range(len(J_history)), J_history, 'r')\n",
    "\n",
    "plt.title(\"Convergence Graph of Cost Function\")\n",
    "plt.xlabel(\"Number of Iterations\")\n",
    "plt.ylabel(\"Cost\")\n",
    "plt.show()"
   ]
  },
  {
   "cell_type": "markdown",
   "metadata": {},
   "source": [
    "## Cluster:2"
   ]
  },
  {
   "cell_type": "code",
   "execution_count": 118,
   "metadata": {},
   "outputs": [
    {
     "name": "stdout",
     "output_type": "stream",
     "text": [
      "Initial cost is:  0.5 \n",
      "\n",
      "Optimal parameters are: \n",
      " [[0.15188884]\n",
      " [0.00543964]\n",
      " [0.00162698]] \n",
      "\n",
      "Final cost is:  [0.4884467]\n"
     ]
    },
    {
     "data": {
      "image/png": "[encoded data removed]",
      "text/plain": [
       "<Figure size 432x288 with 1 Axes>"
      ]
     },
     "metadata": {
      "needs_background": "light"
     },
     "output_type": "display_data"
    }
   ],
   "source": [
    "n_iters = 15000\n",
    "learning_rate = 0.001\n",
    "initial_cost = compute_cost(X2, y2, params)\n",
    "\n",
    "print(\"Initial cost is: \", initial_cost, \"\\n\")\n",
    "\n",
    "(J_history, optimal_params) = gradient_descent(X2, y2, params, learning_rate, n_iters)\n",
    "\n",
    "print(\"Optimal parameters are: \\n\", optimal_params, \"\\n\")\n",
    "\n",
    "print(\"Final cost is: \", J_history[-1])\n",
    "\n",
    "plt.plot(range(len(J_history)), J_history, 'r')\n",
    "\n",
    "plt.title(\"Convergence Graph of Cost Function\")\n",
    "plt.xlabel(\"Number of Iterations\")\n",
    "plt.ylabel(\"Cost\")\n",
    "plt.show()"
   ]
  }
 ],
 "metadata": {
  "kernelspec": {
   "display_name": "Python 3",
   "language": "python",
   "name": "python3"
  },
  "language_info": {
   "codemirror_mode": {
    "name": "ipython",
    "version": 3
   },
   "file_extension": ".py",
   "mimetype": "text/x-python",
   "name": "python",
   "nbconvert_exporter": "python",
   "pygments_lexer": "ipython3",
   "version": "3.7.3"
  }
 },
 "nbformat": 4,
 "nbformat_minor": 2
}
